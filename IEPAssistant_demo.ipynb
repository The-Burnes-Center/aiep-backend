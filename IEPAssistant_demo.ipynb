{
 "cells": [
  {
   "cell_type": "code",
   "execution_count": 1,
   "metadata": {},
   "outputs": [],
   "source": [
    "from IEPAssistant import IEPAssistant\n",
    "from openai import OpenAI\n",
    "from time import sleep"
   ]
  },
  {
   "cell_type": "code",
   "execution_count": 2,
   "metadata": {},
   "outputs": [
    {
     "data": {
      "text/plain": [
       "'asst_j9L5w6C1P8jb2Hnu0j3XweEK'"
      ]
     },
     "execution_count": 2,
     "metadata": {},
     "output_type": "execute_result"
    }
   ],
   "source": [
    "client = OpenAI(api_key='sk-')# Enter When Run, Don't upload\n",
    "assistant = IEPAssistant(client)\n",
    "assistant.config_iep(open(\"iep.pdf\", \"rb\"))"
   ]
  },
  {
   "cell_type": "code",
   "execution_count": 19,
   "metadata": {},
   "outputs": [
    {
     "name": "stdout",
     "output_type": "stream",
     "text": [
      "What are five questions to ask ChatGPT specifically about my child's IEP? Provide questions that would give concise, easily understandable answers that are most pressing to the topic. Respond in English with each question on a new line.\n"
     ]
    },
    {
     "data": {
      "text/plain": [
       "'run_k18XPlCz9B5MViQub0OcgeWO'"
      ]
     },
     "execution_count": 19,
     "metadata": {},
     "output_type": "execute_result"
    }
   ],
   "source": [
    "msg = \"What are five questions to ask ChatGPT specifically about my child's IEP? Provide questions that would give concise, easily understandable answers that are most pressing to the topic. Respond in English with each question on a new line.\" # input('Enter Question: ')\n",
    "assistant.add_message(msg)\n",
    "print(msg)\n",
    "sleep(2)\n",
    "assistant.run()\n"
   ]
  },
  {
   "cell_type": "code",
   "execution_count": 20,
   "metadata": {},
   "outputs": [
    {
     "name": "stdout",
     "output_type": "stream",
     "text": [
      "And Here\n",
      "{'data': [{'id': 'msg_Aq18Qg2DMpn8CM1MAkvJZyv9', 'assistant_id': 'asst_j9L5w6C1P8jb2Hnu0j3XweEK', 'content': [{'text': {'annotations': [], 'value': \"1. What specific goals are set in my child's IEP, and how will their progress be measured?\\n2. Can you explain the accommodations and modifications included in the IEP and how they will support my child's learning?\\n3. How often will my child's IEP be reviewed, and what is the process for making any necessary adjustments?\\n4. Who are the members of my child's IEP team, and what are their roles and responsibilities?\\n5. What steps should I take if I feel my child's IEP is not being effectively implemented or needs to be changed?\"}, 'type': 'text'}], 'created_at': 1700359486, 'file_ids': [], 'metadata': {}, 'object': 'thread.message', 'role': 'assistant', 'run_id': 'run_k18XPlCz9B5MViQub0OcgeWO', 'thread_id': 'thread_7hH6jzDnjpydvt08NI5UxrX8'}, {'id': 'msg_5gbmeErPBRsyUVaTSZ8vTlCy', 'assistant_id': None, 'content': [{'text': {'annotations': [], 'value': \"What are five questions to ask ChatGPT specifically about my child's IEP? Provide questions that would give concise, easily understandable answers that are most pressing to the topic. Respond in English with each question on a new line.\"}, 'type': 'text'}], 'created_at': 1700359483, 'file_ids': [], 'metadata': {}, 'object': 'thread.message', 'role': 'user', 'run_id': None, 'thread_id': 'thread_7hH6jzDnjpydvt08NI5UxrX8'}], 'object': 'list', 'first_id': 'msg_Aq18Qg2DMpn8CM1MAkvJZyv9', 'last_id': 'msg_5gbmeErPBRsyUVaTSZ8vTlCy', 'has_more': False}\n",
      "Answer: 1. What specific goals are set in my child's IEP, and how will their progress be measured?\n",
      "2. Can you explain the accommodations and modifications included in the IEP and how they will support my child's learning?\n",
      "3. How often will my child's IEP be reviewed, and what is the process for making any necessary adjustments?\n",
      "4. Who are the members of my child's IEP team, and what are their roles and responsibilities?\n",
      "5. What steps should I take if I feel my child's IEP is not being effectively implemented or needs to be changed?\n"
     ]
    }
   ],
   "source": [
    "print('And Here')\n",
    "print('Answer: ' + assistant.get_latest_message())"
   ]
  }
 ],
 "metadata": {
  "kernelspec": {
   "display_name": "Python 3",
   "language": "python",
   "name": "python3"
  },
  "language_info": {
   "codemirror_mode": {
    "name": "ipython",
    "version": 3
   },
   "file_extension": ".py",
   "mimetype": "text/x-python",
   "name": "python",
   "nbconvert_exporter": "python",
   "pygments_lexer": "ipython3",
   "version": "3.10.12"
  }
 },
 "nbformat": 4,
 "nbformat_minor": 2
}
