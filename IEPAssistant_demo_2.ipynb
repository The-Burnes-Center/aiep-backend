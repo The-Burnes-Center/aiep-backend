{
 "cells": [
  {
   "cell_type": "code",
   "execution_count": 1,
   "metadata": {},
   "outputs": [],
   "source": [
    "from IEPAssistant import IEPAssistant\n",
    "from openai import OpenAI\n",
    "from time import sleep"
   ]
  },
  {
   "cell_type": "code",
   "execution_count": 5,
   "metadata": {},
   "outputs": [
    {
     "data": {
      "text/plain": [
       "'asst_EmNYHuZMO9QKAmsxJLi72NxM'"
      ]
     },
     "execution_count": 5,
     "metadata": {},
     "output_type": "execute_result"
    }
   ],
   "source": [
    "client = OpenAI(api_key='sk-')# Enter When Run, Don't upload\n",
    "assistant = IEPAssistant(client)\n",
    "assistant.config_iep(open(\"iep.pdf\", \"rb\"))"
   ]
  },
  {
   "cell_type": "code",
   "execution_count": 8,
   "metadata": {},
   "outputs": [
    {
     "data": {
      "text/plain": [
       "'run_YbRS1yURWJa4USxlutbi2O6r'"
      ]
     },
     "execution_count": 8,
     "metadata": {},
     "output_type": "execute_result"
    }
   ],
   "source": [
    "assistant.add_message(\"Summarize 5 of the most pressing issues in the child's IEP in no more than 200 words. Give a block of text and nothing more.\")\n",
    "sleep(2)\n",
    "assistant.run()"
   ]
  },
  {
   "cell_type": "code",
   "execution_count": 14,
   "metadata": {},
   "outputs": [
    {
     "name": "stdout",
     "output_type": "stream",
     "text": [
      "{'data': [{'id': 'msg_PsJXnNLDlqEbyWMFcqJv5bE8', 'assistant_id': 'asst_EmNYHuZMO9QKAmsxJLi72NxM', 'content': [{'text': {'annotations': [{'end_index': 838, 'file_citation': {'file_id': 'file-53fYvdPLh7qS2zn5o9AkePVo', 'quote': 'presents with several age-appropriate phonological process and one atypical process of palataliza on. ’smother rated his speech\\nas 60-70% intelligible and the speech-language pathologist rated his speech as 60% intelligible in known contexts to unfamiliar listeners. His\\nreduced intelligibility and use of the atypical phonological process of palataliza on aﬀects his ability to eﬀec vely communicate with peers\\nand adults as he oBen needs to repeat himself mul ple mes to be understood. \\n\\n\\nResults of the iTALK completed by  ’smother indicate English is  ’sdominant language. Parent teacher and specialist reports as\\nwell as clinical observa on reveal that uses and comprehends both Spanish and English to certain degrees. Results of the DAYC-2\\nCommunica on Domain completed bilingually with ’smother reveals delayed recep ve and expressive communica on with\\nexpressive communica on abili es as aslightly more advanced than recep ve. demonstrates recep ve language skills around the 20\\nmonth age range and expressive language skills in the 26 month age range. He has scaGered recep ve language skills into the 36-47 month\\nrange. demonstrates communica on skills overall around the 24 month age range. Communica on Sample analysis reveals\\nchallenges in responding to basic wh- ques ons correctly iden fying colors and animals and following direc ons independently.\\nExpressively uses words primarily to label objects and par cipate in social rou nes. does not use verbs to describe his ac ons the\\nac ons of others or to describe and narrate his play/toys. He does not use verbal language to describe ac ons and typically resorts to\\nlabeling or does not respond. He protests verbally in some instances and in others he cries and demonstrates tantrum behaviors without\\niden fying his needs. His uGerances were typically one word unless used in rote or common phrases (e.g.“hi teacher”).He was not\\nobserved directly communica ng with peers except to protest and he did not invite peers to play. Interac on with his classmates is scaﬀolded\\nand ini ated by adults.\\n\\n\\ndemonstrates inconsistent pragma c challenges across mul ple environments. In classroom and home environments \\ndemonstrates frustra on and tantrum behaviors during transi ons between ac vi es or when asked to par cipate in new ac vi es. In\\nthese situa ons adults guide him to the next ac vity physically or make guesses about his needs un l they are met. does not use\\nlanguage to mediate his frustra on and his mother reported she believes his expressive communica on delay oBen leads to moments of'}, 'start_index': 827, 'text': '【11†source】', 'type': 'file_citation'}, {'end_index': 849, 'file_citation': {'file_id': 'file-53fYvdPLh7qS2zn5o9AkePVo', 'quote': \"schallenges with speech intelligibility expressive language recep ve language and pragma cs severely limit his ability to communicate\\nwith peers and adults in educa onal and home se+ngs. His pragma c challenges and tantrum behaviors inhibit his learning and the\\nlearning of others. \\n\\n\\nMS SLP-CF\\n04/22/2021\\n\\nPage 5 of 11\\n\\n\\nAddi onal teacher report regarding communica on development: He at mes calls teacher’sname and friend/classmate names without a\\nprompt. He currently expresses in just 1-4word sentences. He understands/is responsive in Spanish but mainly speaks/recep ve in English. \\n\\n\\nGross/Fine Motor Development\\nTeacher report: He shows agood sense of grasping and spa al rela ons. He can compost food while keeping aspoon and bowl. He\\nshowcases using his right hand for wri ng pain ng and feeding.\\n\\n\\nIn terms of gross motor development the SLP-CF observed running around in circles squa+ng to play kicking atower of blocks while\\nmaintaining balance and moving his body to music. In terms of ﬁne motor development was observed building atower with large\\nblocks holding astamp and stamping with one hand and using each hand independently during feeding. \\n\\n\\nSocial Emotional/Behavioral\\nTeacher report: He has asecure rela onship/interac on with familiar adults/teachers. Can express and show “sad”“happy” (crying\\nlaughter).He has understanding when to be ac ve (like outside play) or calm (indoor play).He feels sensi ve at mes but also very\\nindependent and calm when safe. He can maintain focus doing preferred ac vi es. Engages in circle me when singing/reading\\nfamiliar/preferred books.\\n\\n\\nDuring an interview 'searly interven onist reported that is very sensi ve to the emo ons of others and that he “picks up\\non the energy in the room”.  reported that challenges included turn taking and transi ons (e.g.he beneﬁts from alot of prepara on\\naround transi ons).\\n\\n\\nThe SLP-CF observed becoming upset during aclassroom transi on as well as during the assessment observa on with the SLP-CF.\\n'smother reported he becomes frustrated during transi ons in the home and school environment and and that she believes this issue\\ncould be par ally due to challenges with the COVID-19 pandemic and subsequent changes to  ’sdaily rou nes. \\n\\n\\nVocational\\nNot applicable as  is preschool age. \\n\\n\\nAdaptive/Daily Living Skills\\nTeacher report: He understands transi ons but at mes protests. He can take oﬀ his own jacket and put the jacket away to cubby. He can\\nfeed and eat by himself. He will hold hands with afamiliar teacher when walking and stays safe. He at mes needs prompt/reminder/help\\nwhen washing hands or transi oning in class.\\n\\n\\nDuring the SLP-CF'sclassroom observa on sat and ate independently without verbal or gestural support. used aspoon to eat\\nrice and beans picked up an orange slice with one hand and used two hands to eat it and drank milk from an open cup. He needed support\\nand models to complete some expected rou nes (i.e.wash hands).  is not yet toilet trained but his mother reported the family plans to\\nbegin the toilet training process in late March of 2021. \\n\\n\\nHealth\\nhas ahistory of eczema but no known allergies. He has never had an ear infec on. No other health concerns have been reported or\\ndiscovered by doctors since birth. \\n\\n\\nFor student to receive educational benefit goals will be written to address the following areas of need:\\nExpressive language recep ve language pragma cs intelligibility and behavior.\\n\\nSAN FRANCISCO UNIFIED SELPA\\nSPECIAL FACTORS \\n\\n\\nPage 6 of 11\\n\\n\\nStudent Name:  Birthdate:  IEP Date: 4/22/2021\\n\\n\\nDoes the student require assistive technology devices and/or services? 0Yes No \\n\\n\\nRationale: Student requires access to a variety of low-tech communication tools (i.e. paper core and/or fringe boards picture icons\\nvisual supports for comprehension communication books) in order to express wants and needs participate in the curriculum meet his\\nlanguage goals interact socially and support transitions in the classroom. \\n\\n\\nDoes the student require low incidence services equipment and/or materials to meet educational goals? Yes No \\n(If yes specify) \\n\\n\\nConsiderations if the student is blind or visually impaired: is not blind or visually impaired. \\n\\n\\nConsiderations if the student is deaf or hard of hearing: is not deaf or hard of hearing. \\n\\n\\nIf the student is an English Learner complete the following section:\\n\\n\\nDoes the student need primary language support? Yes No If yes how will it be provided? \\n\\n\\nWhere will ELD services be provided to the student? General Education Special Education \\n\\n\\nThe student will participate in the following type of program:\\n\\n\\nStructured English Immersion Alternative Language Program (type or description) \\n\\n\\nComments: \\n\\n\\nDoes student's behavior impede learning of self or others? Yes No\\n(describe) Per parent report teacher and early interventionist report and the SLP-CF's observations \\nduring classroom transitions is disruptive to his learning and to the learning of others. \\n's difficulty with and behavior\\n\\n\\nIf yes specify positive behavior interventions strategies and supports:\\nUse a visual schedule for all planned classroom activities.\\nCue to listen and ensure you have his attention by establishing eye contact before giving instructions and before transitions.\\nExpand on ’s utterances\"}, 'start_index': 838, 'text': '【12†source】', 'type': 'file_citation'}, {'end_index': 1000, 'file_citation': {'file_id': 'file-53fYvdPLh7qS2zn5o9AkePVo', 'quote': 'Teacher report: He shows agood sense of grasping and spa al rela ons. He can compost food while keeping aspoon and bowl. He\\nshowcases using his right hand for wri ng pain ng and feeding'}, 'start_index': 989, 'text': '【13†source】', 'type': 'file_citation'}, {'end_index': 1128, 'file_citation': {'file_id': 'file-53fYvdPLh7qS2zn5o9AkePVo', 'quote': \"Teacher report: He has asecure rela onship/interac on with familiar adults/teachers. Can express and show “sad”“happy” (crying\\nlaughter).He has understanding when to be ac ve (like outside play) or calm (indoor play).He feels sensi ve at mes but also very\\nindependent and calm when safe. He can maintain focus doing preferred ac vi es. Engages in circle me when singing/reading\\nfamiliar/preferred books.\\n\\n\\nDuring an interview 'searly interven onist reported that is very sensi ve to the emo ons of others\"}, 'start_index': 1117, 'text': '【14†source】', 'type': 'file_citation'}, {'end_index': 1273, 'file_citation': {'file_id': 'file-53fYvdPLh7qS2zn5o9AkePVo', 'quote': 'For student to receive educational benefit goals will be written to address the following areas of need:\\nExpressive language recep ve language pragma cs intelligibility and behavior'}, 'start_index': 1262, 'text': '【15†source】', 'type': 'file_citation'}], 'value': 'He exhibits phonological issues with palatalization and has an intelligibility rate of 60-70%, requiring repetitive efforts to be understood. He possesses a limited vocabulary in both English (dominant) and Spanish, with expressive communication slightly ahead of receptive. His communication is similar to the 24-month range, leading to challenges in proper response to questions, color and animal identification, and independent direction following. Verbally, he primarily labels objects and does not use verbs to depict actions, resorting to crying and tantrums when frustrated due to a lack of expressive language. His behavior includes frustration and tantrum behaviors during transitions in classroom and home settings, significantly limiting his communication capability and learning in educational and home environments【11†source】【12†source】. He demonstrates good motor skills through actions like running, playing, and eating independently but has not mastered toilet training yet【13†source】. Socially, he has strong relationships with familiar adults, showing a range of emotions and environmental awareness【14†source】. To benefit educationally, goals will focus on improving expressive and receptive language, pragmatics, intelligibility, and behavior【15†source】.'}, 'type': 'text'}], 'created_at': 1700358450, 'file_ids': [], 'metadata': {}, 'object': 'thread.message', 'role': 'assistant', 'run_id': 'run_YbRS1yURWJa4USxlutbi2O6r', 'thread_id': 'thread_Q6oGNXPiLKaafQtUzYhJIeZO'}, {'id': 'msg_thT3S6qb5VqNqYRe8ehbkzqa', 'assistant_id': None, 'content': [{'text': {'annotations': [], 'value': \"Summarize 5 of the most pressing issues in the child's IEP in no more than 200 words. Give a block of text and nothing more.\"}, 'type': 'text'}], 'created_at': 1700358438, 'file_ids': [], 'metadata': {}, 'object': 'thread.message', 'role': 'user', 'run_id': None, 'thread_id': 'thread_Q6oGNXPiLKaafQtUzYhJIeZO'}], 'object': 'list', 'first_id': 'msg_PsJXnNLDlqEbyWMFcqJv5bE8', 'last_id': 'msg_thT3S6qb5VqNqYRe8ehbkzqa', 'has_more': False}\n"
     ]
    },
    {
     "data": {
      "text/plain": [
       "'He exhibits phonological issues with palatalization and has an intelligibility rate of 60-70%, requiring repetitive efforts to be understood. He possesses a limited vocabulary in both English (dominant) and Spanish, with expressive communication slightly ahead of receptive. His communication is similar to the 24-month range, leading to challenges in proper response to questions, color and animal identification, and independent direction following. Verbally, he primarily labels objects and does not use verbs to depict actions, resorting to crying and tantrums when frustrated due to a lack of expressive language. His behavior includes frustration and tantrum behaviors during transitions in classroom and home settings, significantly limiting his communication capability and learning in educational and home environments. He demonstrates good motor skills through actions like running, playing, and eating independently but has not mastered toilet training yet. Socially, he has strong relationships with familiar adults, showing a range of emotions and environmental awareness. To benefit educationally, goals will focus on improving expressive and receptive language, pragmatics, intelligibility, and behavior.'"
      ]
     },
     "execution_count": 14,
     "metadata": {},
     "output_type": "execute_result"
    }
   ],
   "source": [
    "res = assistant.get_latest_message()\n",
    "res"
   ]
  },
  {
   "cell_type": "code",
   "execution_count": 15,
   "metadata": {},
   "outputs": [
    {
     "name": "stdout",
     "output_type": "stream",
     "text": [
      "{\n",
      "  \"question 1\": \"What specific interventions or strategies can be utilized to improve the child's phonological issues with palatalization and increase his intelligibility rate?\",\n",
      "  \"question 2\": \"What targeted approaches can be taken to expand the child's vocabulary in both English and Spanish, especially in the area of verbs and actions?\",\n",
      "  \"question 3\": \"How can the child's frustration and tantrum behaviors during transitions in classroom and home settings be effectively managed to reduce their impact on communication and learning?\",\n",
      "  \"question 4\": \"What are the most suitable methods and techniques for promoting the child's expressive and receptive language skills, pragmatics, and overall communication capabilities?\",\n",
      "  \"question 5\": \"What strategies can be implemented to support the child's progress in toilet training, given his current developmental stage?\" \n",
      "}\n"
     ]
    }
   ],
   "source": [
    "json = client.chat.completions.create(\n",
    "  model=\"gpt-3.5-turbo-1106\",\n",
    "  response_format={ \"type\": \"json_object\" },\n",
    "  messages=[\n",
    "    {\"role\": \"system\", \"content\": \"You are given a summary of a child's performance from an IEP. You give the most pressing questions whose answers can be found in the summary.\" + \"Return the 5 of the most pressing questions in JSON Format with each assigned by priority to 'question 1', 'question 2' etc respectively.\"},\n",
    "    {\"role\": \"user\", \"content\": 'Summary: ' + res}\n",
    "  ]\n",
    ")\n",
    "print(json.choices[0].message.content)"
   ]
  }
 ],
 "metadata": {
  "kernelspec": {
   "display_name": "Python 3",
   "language": "python",
   "name": "python3"
  },
  "language_info": {
   "codemirror_mode": {
    "name": "ipython",
    "version": 3
   },
   "file_extension": ".py",
   "mimetype": "text/x-python",
   "name": "python",
   "nbconvert_exporter": "python",
   "pygments_lexer": "ipython3",
   "version": "3.10.12"
  }
 },
 "nbformat": 4,
 "nbformat_minor": 2
}
